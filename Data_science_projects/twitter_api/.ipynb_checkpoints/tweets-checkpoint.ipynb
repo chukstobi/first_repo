{
 "cells": [
  {
   "cell_type": "code",
   "execution_count": 1,
   "metadata": {},
   "outputs": [],
   "source": [
    "import tweepy as tp\n",
    "import pandas as pd\n",
    "import matplotlib.pyplot as plt\n",
    "import numpy as np\n",
    "import ast"
   ]
  },
  {
   "cell_type": "code",
   "execution_count": 2,
   "metadata": {},
   "outputs": [],
   "source": [
    "consumer_key = 'rducoMjhlJyWP3lhx3kE4AqZH'\n",
    "consumer_secret = 'icuilX2Lw3bka1MistxzrzGQD9ZmYAjDLppGbqC4QpjnUS3Kfv'\n",
    "access_token = '78296136-Sw8RPfKZWPC8FtjZRHC5VieZOX7cG9lv2ExYSwvAU'\n",
    "access_token_secret = 'phtKY80MTrFcf9lldZ16ElZJrwxilAlZG1o49RbqwZ2VE'\n"
   ]
  },
  {
   "cell_type": "code",
   "execution_count": null,
   "metadata": {},
   "outputs": [],
   "source": [
    "auth = tp.OAuthHandler(consumer_key,consumer_secret)\n",
    "auth.set_access_token(access_token,access_token_secret)\n",
    "api = tp.API(auth)\n",
    "target = ['buhari']\n",
    "results = []\n",
    "number_of_tweets = 200\n",
    "\n",
    "for item in target:\n",
    "    results.append"
   ]
  }
 ],
 "metadata": {
  "kernelspec": {
   "display_name": "Python 3",
   "language": "python",
   "name": "python3"
  },
  "language_info": {
   "codemirror_mode": {
    "name": "ipython",
    "version": 3
   },
   "file_extension": ".py",
   "mimetype": "text/x-python",
   "name": "python",
   "nbconvert_exporter": "python",
   "pygments_lexer": "ipython3",
   "version": "3.7.3"
  }
 },
 "nbformat": 4,
 "nbformat_minor": 4
}
