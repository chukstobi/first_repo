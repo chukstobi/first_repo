{
 "cells": [
  {
   "cell_type": "code",
   "execution_count": 1,
   "metadata": {},
   "outputs": [],
   "source": [
    "import tweepy as tp\n",
    "import pandas as pd\n",
    "import matplotlib.pyplot as plt\n",
    "import numpy as np\n",
    "import ast"
   ]
  },
  {
   "cell_type": "code",
   "execution_count": 5,
   "metadata": {},
   "outputs": [],
   "source": [
    "consumer_key = 'rducoMjhlJyWP3lhx3kE4AqZH'\n",
    "consumer_secret = 'icuilX2Lw3bka1MistxzrzGQD9ZmYAjDLppGbqC4QpjnUS3Kfv'\n",
    "access_token = '78296136-Sw8RPfKZWPC8FtjZRHC5VieZOX7cG9lv2ExYSwvAU'\n",
    "access_token_secret = 'phtKY80MTrFcf9lldZ16ElZJrwxilAlZG1o49RbqwZ2VE'\n"
   ]
  },
  {
   "cell_type": "code",
   "execution_count": 13,
   "metadata": {},
   "outputs": [],
   "source": [
    "auth = tp.OAuthHandler(consumer_key,consumer_secret)\n",
    "auth.set_access_token(access_token,access_token_secret)\n",
    "api = tp.API(auth)\n",
    "target = ['buhari','Fabrizio','ffk']\n",
    "results = []\n",
    "number_of_tweets = 200\n",
    "\n",
    "for item in target:\n",
    "    results.append(api.search(item,count=number_of_tweets))"
   ]
  },
  {
   "cell_type": "code",
   "execution_count": 10,
   "metadata": {},
   "outputs": [
    {
     "name": "stdout",
     "output_type": "stream",
     "text": [
      "100\n"
     ]
    }
   ],
   "source": [
    "shortest_list = min(len(x)for x in results)\n",
    "print(shortest_list)"
   ]
  },
  {
   "cell_type": "code",
   "execution_count": null,
   "metadata": {},
   "outputs": [],
   "source": [
    "tweet_text= [[tweet.text for tweet in tweets]for tweets in results]\n",
    "reshaped = [[]for i in range(shortest_list)]\n",
    "\n",
    "for item in tweet_text:\n",
    "    index = 0\n",
    "    for tweet in item:\n",
    "        reshaped[index].append(tweet)\n",
    "        if index == shortest_list - 1:\n",
    "            break\n",
    "        index += 1\n",
    "data = pd.DataFrame(data=reshaped, columns=target)\n",
    "\n",
    "display(data)"
   ]
  },
  {
   "cell_type": "code",
   "execution_count": null,
   "metadata": {},
   "outputs": [],
   "source": []
  }
 ],
 "metadata": {
  "kernelspec": {
   "display_name": "Python 3",
   "language": "python",
   "name": "python3"
  }
 },
 "nbformat": 4,
 "nbformat_minor": 4
}
