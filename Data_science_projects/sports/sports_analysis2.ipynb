{
 "cells": [
  {
   "cell_type": "code",
   "execution_count": 3,
   "metadata": {},
   "outputs": [],
   "source": [
    "import pandas as pd\n",
    "import matplotlib.pyplot as plt\n",
    "import numpy as np\n",
    "import seaborn\n",
    "from scipy.stats import poisson,skellam"
   ]
  },
  {
   "cell_type": "code",
   "execution_count": 6,
   "metadata": {},
   "outputs": [
    {
     "data": {
      "text/html": [
       "<div>\n",
       "<style scoped>\n",
       "    .dataframe tbody tr th:only-of-type {\n",
       "        vertical-align: middle;\n",
       "    }\n",
       "\n",
       "    .dataframe tbody tr th {\n",
       "        vertical-align: top;\n",
       "    }\n",
       "\n",
       "    .dataframe thead th {\n",
       "        text-align: right;\n",
       "    }\n",
       "</style>\n",
       "<table border=\"1\" class=\"dataframe\">\n",
       "  <thead>\n",
       "    <tr style=\"text-align: right;\">\n",
       "      <th></th>\n",
       "      <th>HomeTeam</th>\n",
       "      <th>AwayTeam</th>\n",
       "      <th>HomeGoals</th>\n",
       "      <th>AwayGoals</th>\n",
       "    </tr>\n",
       "  </thead>\n",
       "  <tbody>\n",
       "    <tr>\n",
       "      <th>0</th>\n",
       "      <td>Liverpool</td>\n",
       "      <td>Norwich</td>\n",
       "      <td>4</td>\n",
       "      <td>1</td>\n",
       "    </tr>\n",
       "    <tr>\n",
       "      <th>1</th>\n",
       "      <td>West Ham</td>\n",
       "      <td>Man City</td>\n",
       "      <td>0</td>\n",
       "      <td>5</td>\n",
       "    </tr>\n",
       "    <tr>\n",
       "      <th>2</th>\n",
       "      <td>Bournemouth</td>\n",
       "      <td>Sheffield United</td>\n",
       "      <td>1</td>\n",
       "      <td>1</td>\n",
       "    </tr>\n",
       "    <tr>\n",
       "      <th>3</th>\n",
       "      <td>Burnley</td>\n",
       "      <td>Southampton</td>\n",
       "      <td>3</td>\n",
       "      <td>0</td>\n",
       "    </tr>\n",
       "    <tr>\n",
       "      <th>4</th>\n",
       "      <td>Crystal Palace</td>\n",
       "      <td>Everton</td>\n",
       "      <td>0</td>\n",
       "      <td>0</td>\n",
       "    </tr>\n",
       "  </tbody>\n",
       "</table>\n",
       "</div>"
      ],
      "text/plain": [
       "         HomeTeam          AwayTeam  HomeGoals  AwayGoals\n",
       "0       Liverpool           Norwich          4          1\n",
       "1        West Ham          Man City          0          5\n",
       "2     Bournemouth  Sheffield United          1          1\n",
       "3         Burnley       Southampton          3          0\n",
       "4  Crystal Palace           Everton          0          0"
      ]
     },
     "execution_count": 6,
     "metadata": {},
     "output_type": "execute_result"
    }
   ],
   "source": [
    "epl_1920 = pd.read_csv('E0.csv')\n",
    "epl_1920 = epl_1920[['HomeTeam','AwayTeam','FTHG','FTAG']]\n",
    "epl_1920 = epl_1920.rename(columns={'FTHG':'HomeGoals','FTAG':'AwayGoals'})\n",
    "epl_1920.head()"
   ]
  },
  {
   "cell_type": "code",
   "execution_count": 7,
   "metadata": {},
   "outputs": [
    {
     "data": {
      "text/plain": [
       "HomeGoals    1.508108\n",
       "AwayGoals    1.197297\n",
       "dtype: float64"
      ]
     },
     "execution_count": 7,
     "metadata": {},
     "output_type": "execute_result"
    }
   ],
   "source": [
    "epl_1920 = epl_1920[:-10]\n",
    "epl_1920.mean()"
   ]
  },
  {
   "cell_type": "code",
   "execution_count": 8,
   "metadata": {},
   "outputs": [
    {
     "data": {
      "text/plain": [
       "0.25428088854445496"
      ]
     },
     "execution_count": 8,
     "metadata": {},
     "output_type": "execute_result"
    }
   ],
   "source": [
    "skellam.pmf(0.0, epl_1920.mean()[0],epl_1920.mean()[1])"
   ]
  },
  {
   "cell_type": "code",
   "execution_count": 9,
   "metadata": {},
   "outputs": [
    {
     "data": {
      "text/plain": [
       "0.22372371409045236"
      ]
     },
     "execution_count": 9,
     "metadata": {},
     "output_type": "execute_result"
    }
   ],
   "source": [
    "skellam.pmf(1, epl_1920.mean()[0],epl_1920.mean()[1])"
   ]
  },
  {
   "cell_type": "code",
   "execution_count": 10,
   "metadata": {},
   "outputs": [
    {
     "data": {
      "text/plain": [
       "0           Liverpool\n",
       "1            West Ham\n",
       "2         Bournemouth\n",
       "3             Burnley\n",
       "4      Crystal Palace\n",
       "            ...      \n",
       "365            Wolves\n",
       "366           Watford\n",
       "367       Aston Villa\n",
       "368        Man United\n",
       "369         Liverpool\n",
       "Name: HomeTeam, Length: 370, dtype: object"
      ]
     },
     "execution_count": 10,
     "metadata": {},
     "output_type": "execute_result"
    }
   ],
   "source": [
    "epl_1920['HomeTeam']"
   ]
  },
  {
   "cell_type": "code",
   "execution_count": 11,
   "metadata": {},
   "outputs": [
    {
     "data": {
      "text/html": [
       "<table class=\"simpletable\">\n",
       "<caption>Generalized Linear Model Regression Results</caption>\n",
       "<tr>\n",
       "  <th>Dep. Variable:</th>         <td>goals</td>      <th>  No. Observations:  </th>  <td>   740</td> \n",
       "</tr>\n",
       "<tr>\n",
       "  <th>Model:</th>                  <td>GLM</td>       <th>  Df Residuals:      </th>  <td>   700</td> \n",
       "</tr>\n",
       "<tr>\n",
       "  <th>Model Family:</th>         <td>Poisson</td>     <th>  Df Model:          </th>  <td>    39</td> \n",
       "</tr>\n",
       "<tr>\n",
       "  <th>Link Function:</th>          <td>log</td>       <th>  Scale:             </th> <td>  1.0000</td>\n",
       "</tr>\n",
       "<tr>\n",
       "  <th>Method:</th>                <td>IRLS</td>       <th>  Log-Likelihood:    </th> <td> -1028.6</td>\n",
       "</tr>\n",
       "<tr>\n",
       "  <th>Date:</th>            <td>Tue, 08 Sep 2020</td> <th>  Deviance:          </th> <td>  748.82</td>\n",
       "</tr>\n",
       "<tr>\n",
       "  <th>Time:</th>                <td>08:20:12</td>     <th>  Pearson chi2:      </th>  <td>  642.</td> \n",
       "</tr>\n",
       "<tr>\n",
       "  <th>No. Iterations:</th>          <td>5</td>        <th>                     </th>     <td> </td>   \n",
       "</tr>\n",
       "<tr>\n",
       "  <th>Covariance Type:</th>     <td>nonrobust</td>    <th>                     </th>     <td> </td>   \n",
       "</tr>\n",
       "</table>\n",
       "<table class=\"simpletable\">\n",
       "<tr>\n",
       "                <td></td>                  <th>coef</th>     <th>std err</th>      <th>z</th>      <th>P>|z|</th>  <th>[0.025</th>    <th>0.975]</th>  \n",
       "</tr>\n",
       "<tr>\n",
       "  <th>Intercept</th>                    <td>    0.1498</td> <td>    0.207</td> <td>    0.722</td> <td> 0.470</td> <td>   -0.257</td> <td>    0.556</td>\n",
       "</tr>\n",
       "<tr>\n",
       "  <th>team[T.Aston Villa]</th>          <td>   -0.2673</td> <td>    0.210</td> <td>   -1.274</td> <td> 0.203</td> <td>   -0.679</td> <td>    0.144</td>\n",
       "</tr>\n",
       "<tr>\n",
       "  <th>team[T.Bournemouth]</th>          <td>   -0.3520</td> <td>    0.215</td> <td>   -1.640</td> <td> 0.101</td> <td>   -0.773</td> <td>    0.069</td>\n",
       "</tr>\n",
       "<tr>\n",
       "  <th>team[T.Brighton]</th>             <td>   -0.3663</td> <td>    0.215</td> <td>   -1.707</td> <td> 0.088</td> <td>   -0.787</td> <td>    0.054</td>\n",
       "</tr>\n",
       "<tr>\n",
       "  <th>team[T.Burnley]</th>              <td>   -0.2359</td> <td>    0.207</td> <td>   -1.140</td> <td> 0.254</td> <td>   -0.642</td> <td>    0.170</td>\n",
       "</tr>\n",
       "<tr>\n",
       "  <th>team[T.Chelsea]</th>              <td>    0.2312</td> <td>    0.184</td> <td>    1.255</td> <td> 0.210</td> <td>   -0.130</td> <td>    0.592</td>\n",
       "</tr>\n",
       "<tr>\n",
       "  <th>team[T.Crystal Palace]</th>       <td>   -0.5752</td> <td>    0.229</td> <td>   -2.514</td> <td> 0.012</td> <td>   -1.024</td> <td>   -0.127</td>\n",
       "</tr>\n",
       "<tr>\n",
       "  <th>team[T.Everton]</th>              <td>   -0.2003</td> <td>    0.206</td> <td>   -0.974</td> <td> 0.330</td> <td>   -0.603</td> <td>    0.203</td>\n",
       "</tr>\n",
       "<tr>\n",
       "  <th>team[T.Leicester]</th>            <td>    0.2141</td> <td>    0.184</td> <td>    1.162</td> <td> 0.245</td> <td>   -0.147</td> <td>    0.575</td>\n",
       "</tr>\n",
       "<tr>\n",
       "  <th>team[T.Liverpool]</th>            <td>    0.4126</td> <td>    0.177</td> <td>    2.336</td> <td> 0.019</td> <td>    0.066</td> <td>    0.759</td>\n",
       "</tr>\n",
       "<tr>\n",
       "  <th>team[T.Man City]</th>             <td>    0.6004</td> <td>    0.171</td> <td>    3.506</td> <td> 0.000</td> <td>    0.265</td> <td>    0.936</td>\n",
       "</tr>\n",
       "<tr>\n",
       "  <th>team[T.Man United]</th>           <td>    0.1620</td> <td>    0.186</td> <td>    0.871</td> <td> 0.384</td> <td>   -0.203</td> <td>    0.527</td>\n",
       "</tr>\n",
       "<tr>\n",
       "  <th>team[T.Newcastle]</th>            <td>   -0.3660</td> <td>    0.215</td> <td>   -1.706</td> <td> 0.088</td> <td>   -0.787</td> <td>    0.055</td>\n",
       "</tr>\n",
       "<tr>\n",
       "  <th>team[T.Norwich]</th>              <td>   -0.7044</td> <td>    0.240</td> <td>   -2.938</td> <td> 0.003</td> <td>   -1.174</td> <td>   -0.234</td>\n",
       "</tr>\n",
       "<tr>\n",
       "  <th>team[T.Sheffield United]</th>     <td>   -0.3521</td> <td>    0.213</td> <td>   -1.654</td> <td> 0.098</td> <td>   -0.769</td> <td>    0.065</td>\n",
       "</tr>\n",
       "<tr>\n",
       "  <th>team[T.Southampton]</th>          <td>   -0.1003</td> <td>    0.200</td> <td>   -0.502</td> <td> 0.615</td> <td>   -0.492</td> <td>    0.291</td>\n",
       "</tr>\n",
       "<tr>\n",
       "  <th>team[T.Tottenham]</th>            <td>    0.1110</td> <td>    0.189</td> <td>    0.588</td> <td> 0.557</td> <td>   -0.259</td> <td>    0.481</td>\n",
       "</tr>\n",
       "<tr>\n",
       "  <th>team[T.Watford]</th>              <td>   -0.4427</td> <td>    0.220</td> <td>   -2.014</td> <td> 0.044</td> <td>   -0.874</td> <td>   -0.012</td>\n",
       "</tr>\n",
       "<tr>\n",
       "  <th>team[T.West Ham]</th>             <td>   -0.0796</td> <td>    0.200</td> <td>   -0.399</td> <td> 0.690</td> <td>   -0.471</td> <td>    0.312</td>\n",
       "</tr>\n",
       "<tr>\n",
       "  <th>team[T.Wolves]</th>               <td>   -0.0563</td> <td>    0.197</td> <td>   -0.287</td> <td> 0.774</td> <td>   -0.441</td> <td>    0.329</td>\n",
       "</tr>\n",
       "<tr>\n",
       "  <th>opponent[T.Aston Villa]</th>      <td>    0.3609</td> <td>    0.192</td> <td>    1.875</td> <td> 0.061</td> <td>   -0.016</td> <td>    0.738</td>\n",
       "</tr>\n",
       "<tr>\n",
       "  <th>opponent[T.Bournemouth]</th>      <td>    0.3232</td> <td>    0.194</td> <td>    1.669</td> <td> 0.095</td> <td>   -0.056</td> <td>    0.703</td>\n",
       "</tr>\n",
       "<tr>\n",
       "  <th>opponent[T.Brighton]</th>         <td>    0.1332</td> <td>    0.202</td> <td>    0.660</td> <td> 0.509</td> <td>   -0.262</td> <td>    0.529</td>\n",
       "</tr>\n",
       "<tr>\n",
       "  <th>opponent[T.Burnley]</th>          <td>    0.0319</td> <td>    0.207</td> <td>    0.154</td> <td> 0.877</td> <td>   -0.373</td> <td>    0.437</td>\n",
       "</tr>\n",
       "<tr>\n",
       "  <th>opponent[T.Chelsea]</th>          <td>    0.1831</td> <td>    0.201</td> <td>    0.911</td> <td> 0.362</td> <td>   -0.211</td> <td>    0.577</td>\n",
       "</tr>\n",
       "<tr>\n",
       "  <th>opponent[T.Crystal Palace]</th>   <td>    0.0502</td> <td>    0.206</td> <td>    0.244</td> <td> 0.807</td> <td>   -0.353</td> <td>    0.453</td>\n",
       "</tr>\n",
       "<tr>\n",
       "  <th>opponent[T.Everton]</th>          <td>    0.1328</td> <td>    0.202</td> <td>    0.658</td> <td> 0.510</td> <td>   -0.263</td> <td>    0.528</td>\n",
       "</tr>\n",
       "<tr>\n",
       "  <th>opponent[T.Leicester]</th>        <td>   -0.1376</td> <td>    0.218</td> <td>   -0.631</td> <td> 0.528</td> <td>   -0.565</td> <td>    0.290</td>\n",
       "</tr>\n",
       "<tr>\n",
       "  <th>opponent[T.Liverpool]</th>        <td>   -0.3271</td> <td>    0.231</td> <td>   -1.419</td> <td> 0.156</td> <td>   -0.779</td> <td>    0.125</td>\n",
       "</tr>\n",
       "<tr>\n",
       "  <th>opponent[T.Man City]</th>         <td>   -0.2290</td> <td>    0.225</td> <td>   -1.019</td> <td> 0.308</td> <td>   -0.669</td> <td>    0.211</td>\n",
       "</tr>\n",
       "<tr>\n",
       "  <th>opponent[T.Man United]</th>       <td>   -0.2111</td> <td>    0.223</td> <td>   -0.947</td> <td> 0.344</td> <td>   -0.648</td> <td>    0.226</td>\n",
       "</tr>\n",
       "<tr>\n",
       "  <th>opponent[T.Newcastle]</th>        <td>    0.1831</td> <td>    0.200</td> <td>    0.915</td> <td> 0.360</td> <td>   -0.209</td> <td>    0.575</td>\n",
       "</tr>\n",
       "<tr>\n",
       "  <th>opponent[T.Norwich]</th>          <td>    0.4330</td> <td>    0.190</td> <td>    2.277</td> <td> 0.023</td> <td>    0.060</td> <td>    0.806</td>\n",
       "</tr>\n",
       "<tr>\n",
       "  <th>opponent[T.Sheffield United]</th> <td>   -0.2494</td> <td>    0.223</td> <td>   -1.119</td> <td> 0.263</td> <td>   -0.686</td> <td>    0.187</td>\n",
       "</tr>\n",
       "<tr>\n",
       "  <th>opponent[T.Southampton]</th>      <td>    0.2450</td> <td>    0.197</td> <td>    1.243</td> <td> 0.214</td> <td>   -0.141</td> <td>    0.631</td>\n",
       "</tr>\n",
       "<tr>\n",
       "  <th>opponent[T.Tottenham]</th>        <td>    0.0085</td> <td>    0.209</td> <td>    0.041</td> <td> 0.968</td> <td>   -0.401</td> <td>    0.418</td>\n",
       "</tr>\n",
       "<tr>\n",
       "  <th>opponent[T.Watford]</th>          <td>    0.2775</td> <td>    0.195</td> <td>    1.421</td> <td> 0.155</td> <td>   -0.105</td> <td>    0.660</td>\n",
       "</tr>\n",
       "<tr>\n",
       "  <th>opponent[T.West Ham]</th>         <td>    0.2810</td> <td>    0.196</td> <td>    1.436</td> <td> 0.151</td> <td>   -0.102</td> <td>    0.664</td>\n",
       "</tr>\n",
       "<tr>\n",
       "  <th>opponent[T.Wolves]</th>           <td>   -0.1699</td> <td>    0.220</td> <td>   -0.774</td> <td> 0.439</td> <td>   -0.600</td> <td>    0.260</td>\n",
       "</tr>\n",
       "<tr>\n",
       "  <th>home</th>                         <td>    0.2353</td> <td>    0.064</td> <td>    3.694</td> <td> 0.000</td> <td>    0.110</td> <td>    0.360</td>\n",
       "</tr>\n",
       "</table>"
      ],
      "text/plain": [
       "<class 'statsmodels.iolib.summary.Summary'>\n",
       "\"\"\"\n",
       "                 Generalized Linear Model Regression Results                  \n",
       "==============================================================================\n",
       "Dep. Variable:                  goals   No. Observations:                  740\n",
       "Model:                            GLM   Df Residuals:                      700\n",
       "Model Family:                 Poisson   Df Model:                           39\n",
       "Link Function:                    log   Scale:                          1.0000\n",
       "Method:                          IRLS   Log-Likelihood:                -1028.6\n",
       "Date:                Tue, 08 Sep 2020   Deviance:                       748.82\n",
       "Time:                        08:20:12   Pearson chi2:                     642.\n",
       "No. Iterations:                     5                                         \n",
       "Covariance Type:            nonrobust                                         \n",
       "================================================================================================\n",
       "                                   coef    std err          z      P>|z|      [0.025      0.975]\n",
       "------------------------------------------------------------------------------------------------\n",
       "Intercept                        0.1498      0.207      0.722      0.470      -0.257       0.556\n",
       "team[T.Aston Villa]             -0.2673      0.210     -1.274      0.203      -0.679       0.144\n",
       "team[T.Bournemouth]             -0.3520      0.215     -1.640      0.101      -0.773       0.069\n",
       "team[T.Brighton]                -0.3663      0.215     -1.707      0.088      -0.787       0.054\n",
       "team[T.Burnley]                 -0.2359      0.207     -1.140      0.254      -0.642       0.170\n",
       "team[T.Chelsea]                  0.2312      0.184      1.255      0.210      -0.130       0.592\n",
       "team[T.Crystal Palace]          -0.5752      0.229     -2.514      0.012      -1.024      -0.127\n",
       "team[T.Everton]                 -0.2003      0.206     -0.974      0.330      -0.603       0.203\n",
       "team[T.Leicester]                0.2141      0.184      1.162      0.245      -0.147       0.575\n",
       "team[T.Liverpool]                0.4126      0.177      2.336      0.019       0.066       0.759\n",
       "team[T.Man City]                 0.6004      0.171      3.506      0.000       0.265       0.936\n",
       "team[T.Man United]               0.1620      0.186      0.871      0.384      -0.203       0.527\n",
       "team[T.Newcastle]               -0.3660      0.215     -1.706      0.088      -0.787       0.055\n",
       "team[T.Norwich]                 -0.7044      0.240     -2.938      0.003      -1.174      -0.234\n",
       "team[T.Sheffield United]        -0.3521      0.213     -1.654      0.098      -0.769       0.065\n",
       "team[T.Southampton]             -0.1003      0.200     -0.502      0.615      -0.492       0.291\n",
       "team[T.Tottenham]                0.1110      0.189      0.588      0.557      -0.259       0.481\n",
       "team[T.Watford]                 -0.4427      0.220     -2.014      0.044      -0.874      -0.012\n",
       "team[T.West Ham]                -0.0796      0.200     -0.399      0.690      -0.471       0.312\n",
       "team[T.Wolves]                  -0.0563      0.197     -0.287      0.774      -0.441       0.329\n",
       "opponent[T.Aston Villa]          0.3609      0.192      1.875      0.061      -0.016       0.738\n",
       "opponent[T.Bournemouth]          0.3232      0.194      1.669      0.095      -0.056       0.703\n",
       "opponent[T.Brighton]             0.1332      0.202      0.660      0.509      -0.262       0.529\n",
       "opponent[T.Burnley]              0.0319      0.207      0.154      0.877      -0.373       0.437\n",
       "opponent[T.Chelsea]              0.1831      0.201      0.911      0.362      -0.211       0.577\n",
       "opponent[T.Crystal Palace]       0.0502      0.206      0.244      0.807      -0.353       0.453\n",
       "opponent[T.Everton]              0.1328      0.202      0.658      0.510      -0.263       0.528\n",
       "opponent[T.Leicester]           -0.1376      0.218     -0.631      0.528      -0.565       0.290\n",
       "opponent[T.Liverpool]           -0.3271      0.231     -1.419      0.156      -0.779       0.125\n",
       "opponent[T.Man City]            -0.2290      0.225     -1.019      0.308      -0.669       0.211\n",
       "opponent[T.Man United]          -0.2111      0.223     -0.947      0.344      -0.648       0.226\n",
       "opponent[T.Newcastle]            0.1831      0.200      0.915      0.360      -0.209       0.575\n",
       "opponent[T.Norwich]              0.4330      0.190      2.277      0.023       0.060       0.806\n",
       "opponent[T.Sheffield United]    -0.2494      0.223     -1.119      0.263      -0.686       0.187\n",
       "opponent[T.Southampton]          0.2450      0.197      1.243      0.214      -0.141       0.631\n",
       "opponent[T.Tottenham]            0.0085      0.209      0.041      0.968      -0.401       0.418\n",
       "opponent[T.Watford]              0.2775      0.195      1.421      0.155      -0.105       0.660\n",
       "opponent[T.West Ham]             0.2810      0.196      1.436      0.151      -0.102       0.664\n",
       "opponent[T.Wolves]              -0.1699      0.220     -0.774      0.439      -0.600       0.260\n",
       "home                             0.2353      0.064      3.694      0.000       0.110       0.360\n",
       "================================================================================================\n",
       "\"\"\""
      ]
     },
     "execution_count": 11,
     "metadata": {},
     "output_type": "execute_result"
    }
   ],
   "source": [
    "import statsmodels.api as sm\n",
    "import statsmodels.formula.api as smf\n",
    "goal_model_data = pd.concat([epl_1920[['HomeTeam','AwayTeam','HomeGoals']].assign(home=1).rename(\n",
    "            columns={'HomeTeam':'team', 'AwayTeam':'opponent','HomeGoals':'goals'}),\n",
    "           epl_1920[['AwayTeam','HomeTeam','AwayGoals']].assign(home=0).rename(\n",
    "            columns={'AwayTeam':'team', 'HomeTeam':'opponent','AwayGoals':'goals'})])\n",
    "\n",
    "poisson_model = smf.glm(formula=\"goals ~ home + team + opponent\", data=goal_model_data, \n",
    "                        family=sm.families.Poisson()).fit()\n",
    "poisson_model.summary()"
   ]
  },
  {
   "cell_type": "code",
   "execution_count": 13,
   "metadata": {},
   "outputs": [
    {
     "data": {
      "text/plain": [
       "1    3.423612\n",
       "dtype: float64"
      ]
     },
     "execution_count": 13,
     "metadata": {},
     "output_type": "execute_result"
    }
   ],
   "source": [
    "poisson_model.predict(pd.DataFrame(data={'team': 'Liverpool', 'opponent': 'Norwich',\n",
    "                                       'home':1},index=[1]))"
   ]
  },
  {
   "cell_type": "code",
   "execution_count": 14,
   "metadata": {},
   "outputs": [
    {
     "data": {
      "text/plain": [
       "1    0.414053\n",
       "dtype: float64"
      ]
     },
     "execution_count": 14,
     "metadata": {},
     "output_type": "execute_result"
    }
   ],
   "source": [
    "poisson_model.predict(pd.DataFrame(data={'team': 'Norwich', 'opponent': 'Liverpool',\n",
    "                                       'home':0},index=[1]))"
   ]
  },
  {
   "cell_type": "code",
   "execution_count": 15,
   "metadata": {},
   "outputs": [
    {
     "data": {
      "text/plain": [
       "array([[0.02154386, 0.00892029, 0.00184673, 0.00025488],\n",
       "       [0.07375783, 0.03053961, 0.0063225 , 0.00087262],\n",
       "       [0.12625908, 0.05227789, 0.0108229 , 0.00149375],\n",
       "       [0.14408735, 0.05965973, 0.01235113, 0.00170467]])"
      ]
     },
     "execution_count": 15,
     "metadata": {},
     "output_type": "execute_result"
    }
   ],
   "source": [
    "def simulate_match(foot_model, homeTeam, awayTeam, max_goals=10):\n",
    "    home_goals_avg = foot_model.predict(pd.DataFrame(data={'team': homeTeam, \n",
    "                                                            'opponent': awayTeam,'home':1},\n",
    "                                                      index=[1])).values[0]\n",
    "    away_goals_avg = foot_model.predict(pd.DataFrame(data={'team': awayTeam, \n",
    "                                                            'opponent': homeTeam,'home':0},\n",
    "                                                      index=[1])).values[0]\n",
    "    team_pred = [[poisson.pmf(i, team_avg) for i in range(0, max_goals+1)] for team_avg in [home_goals_avg, away_goals_avg]]\n",
    "    return(np.outer(np.array(team_pred[0]), np.array(team_pred[1])))\n",
    "simulate_match(poisson_model, 'Liverpool', 'Norwich', max_goals=3)"
   ]
  },
  {
   "cell_type": "code",
   "execution_count": 16,
   "metadata": {},
   "outputs": [
    {
     "data": {
      "text/plain": [
       "0.9141605417246046"
      ]
     },
     "execution_count": 16,
     "metadata": {},
     "output_type": "execute_result"
    }
   ],
   "source": [
    "liv_nor = simulate_match(poisson_model, \"Liverpool\", \"Norwich\", max_goals=10)\n",
    "# Liverpool win\n",
    "np.sum(np.tril(liv_nor, -1))"
   ]
  },
  {
   "cell_type": "code",
   "execution_count": 17,
   "metadata": {},
   "outputs": [
    {
     "data": {
      "text/plain": [
       "0.06477098410083065"
      ]
     },
     "execution_count": 17,
     "metadata": {},
     "output_type": "execute_result"
    }
   ],
   "source": [
    "# draw\n",
    "np.sum(np.diag(liv_nor))"
   ]
  },
  {
   "cell_type": "code",
   "execution_count": 18,
   "metadata": {},
   "outputs": [
    {
     "data": {
      "text/plain": [
       "0.020212436081052984"
      ]
     },
     "execution_count": 18,
     "metadata": {},
     "output_type": "execute_result"
    }
   ],
   "source": [
    "# Norwich win\n",
    "np.sum(np.triu(liv_nor, 1))"
   ]
  },
  {
   "cell_type": "code",
   "execution_count": null,
   "metadata": {},
   "outputs": [],
   "source": []
  }
 ],
 "metadata": {
  "kernelspec": {
   "display_name": "Python 3",
   "language": "python",
   "name": "python3"
  }
 },
 "nbformat": 4,
 "nbformat_minor": 4
}
